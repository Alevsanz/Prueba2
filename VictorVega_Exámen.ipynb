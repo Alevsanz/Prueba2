{
  "nbformat": 4,
  "nbformat_minor": 0,
  "metadata": {
    "colab": {
      "name": "VictorVega_Exámen.ipynb",
      "provenance": [],
      "collapsed_sections": [],
      "include_colab_link": true
    },
    "kernelspec": {
      "name": "python3",
      "display_name": "Python 3"
    },
    "language_info": {
      "name": "python"
    }
  },
  "cells": [
    {
      "cell_type": "markdown",
      "metadata": {
        "id": "view-in-github",
        "colab_type": "text"
      },
      "source": [
        "<a href=\"https://colab.research.google.com/github/Alevsanz/Prueba2/blob/main/VictorVega_Ex%C3%A1men.ipynb\" target=\"_parent\"><img src=\"https://colab.research.google.com/assets/colab-badge.svg\" alt=\"Open In Colab\"/></a>"
      ]
    },
    {
      "cell_type": "markdown",
      "source": [
        "# Indicaciones\n",
        "\n",
        "<p>Se entrega un archivo ipynb con tu nombre. </p>\n",
        "<p>Puedes usar todo lo visto en clase.</p>\n",
        "<p>Hora final de entrega: Sabado 11:00pm</p>\n",
        "<p>Modo de entrega : pedro.rotta@artifypirhu.com </p>"
      ],
      "metadata": {
        "id": "9Prb7sGL1mA3"
      }
    },
    {
      "cell_type": "code",
      "execution_count": null,
      "metadata": {
        "colab": {
          "base_uri": "https://localhost:8080/"
        },
        "id": "YOCXVGes1jyI",
        "outputId": "6e3f462f-140c-4a7a-e322-b96ea8d95b2d"
      },
      "outputs": [
        {
          "output_type": "stream",
          "name": "stdout",
          "text": [
            "Oprima S si desea ingresar una edad: S\n",
            "Ingrese edad: 12\n",
            "Oprima S si desea ingresar una edad: S\n",
            "Ingrese edad: 34\n",
            "Oprima S si desea ingresar una edad: S\n",
            "Ingrese edad: 7\n",
            "Oprima S si desea ingresar una edad: f\n",
            "Debido a que oprimio otra tecla se cerró el programa\n",
            "[12, 34, 7]\n"
          ]
        }
      ],
      "source": [
        "\"\"\"\n",
        " Cree un programa para hacer colección de edades en una lista (Use while)\n",
        " \"\"\"\n",
        "Edades=[]\n",
        "Decision=input(\"Oprima S si desea ingresar una edad: \")\n",
        "while Decision==\"S\":\n",
        "  Edades.append(int(input(\"Ingrese edad: \")))\n",
        "  Decision=input(\"Oprima S si desea ingresar una edad: \")\n",
        "print(\"Debido a que oprimio otra tecla se cerró el programa\")  \n",
        "print(Edades)\n"
      ]
    },
    {
      "cell_type": "code",
      "source": [
        "\"\"\"\n",
        "Haga un programa que sume todos los números dados por un usuario (use for)\n",
        "\"\"\"\n",
        "numeros=[]\n",
        "Decision=input(\"S para agregar un número: \")\n",
        "while Decision==\"S\":\n",
        "  numeros.append(int(input(\"Ingrese numero: \")))\n",
        "  Decision=input(\"S para agregar otro numero: \")\n",
        "print(numeros)\n",
        "suma=0\n",
        "for x in numeros:\n",
        "  suma=suma+x\n",
        "print(\"La suma de los números dados por el usuario es\",suma)\n"
      ],
      "metadata": {
        "colab": {
          "base_uri": "https://localhost:8080/"
        },
        "id": "UWU8i6Xq5bxe",
        "outputId": "aaba0964-ade9-4799-8ba1-d167329f04d7"
      },
      "execution_count": null,
      "outputs": [
        {
          "output_type": "stream",
          "name": "stdout",
          "text": [
            "S para agregar un número: S\n",
            "Ingrese numero: 10\n",
            "S para agregar otro numero: S\n",
            "Ingrese numero: 12\n",
            "S para agregar otro numero: S\n",
            "Ingrese numero: 11\n",
            "S para agregar otro numero: f\n",
            "[10, 12, 11]\n",
            "La suma de los números dados por el usuario es 33\n"
          ]
        }
      ]
    },
    {
      "cell_type": "code",
      "source": [
        "\"\"\"\n",
        "De una lista de Nombres, imprimir solo los que comienzan por N\n",
        "\"\"\"\n",
        "import re\n",
        "Nombres=[\"Juan\",\"Rolando\",\"Nestor\",\"Sergio\",\"Nathaly\",\"Britany\"]\n",
        "for i in Nombres:\n",
        "  Nombres_N = re.match(\"N\\w+\",i)\n",
        "  if Nombres_N:\n",
        "    print(Nombres_N.group())\n",
        "\n",
        "    "
      ],
      "metadata": {
        "colab": {
          "base_uri": "https://localhost:8080/"
        },
        "id": "sfhpoBw95eCx",
        "outputId": "de5060d7-47ce-4f6d-8763-3b65f0604cb3"
      },
      "execution_count": null,
      "outputs": [
        {
          "output_type": "stream",
          "name": "stdout",
          "text": [
            "Nestor\n",
            "Nathaly\n"
          ]
        }
      ]
    },
    {
      "cell_type": "code",
      "source": [
        "\"\"\"\n",
        "Haga un programa que multiplique todos los numeros dados por el usuario (use for)\n",
        "\"\"\"\n",
        "numeros=[]\n",
        "Decision=input(\"S para agregar un número: \")\n",
        "while Decision==\"S\":\n",
        "  numeros.append(int(input(\"Ingrese numero: \")))\n",
        "  Decision=input(\"S para agregar otro numero: \")\n",
        "print(numeros)\n",
        "multi=1\n",
        "for x in numeros:\n",
        "  multi=multi*x\n",
        "print(\"La multiplicación de los números dados es\",multi)\n"
      ],
      "metadata": {
        "id": "FlcBueA75fmV",
        "colab": {
          "base_uri": "https://localhost:8080/"
        },
        "outputId": "e2c1b651-6708-4b13-e212-c45d3a762f0f"
      },
      "execution_count": null,
      "outputs": [
        {
          "output_type": "stream",
          "name": "stdout",
          "text": [
            "S para agregar un número: S\n",
            "Ingrese numero: 2\n",
            "S para agregar otro numero: S\n",
            "Ingrese numero: 3\n",
            "S para agregar otro numero: S\n",
            "Ingrese numero: 4\n",
            "S para agregar otro numero: f\n",
            "[2, 3, 4]\n",
            "La multiplicación de los números dados es 24\n"
          ]
        }
      ]
    },
    {
      "cell_type": "code",
      "source": [
        "\"\"\"\n",
        "crea la siguente estructura (cuando se coloca /n hace salto de línea) usando for\n",
        "#\n",
        "##\n",
        "###\n",
        "####\n",
        "#####\n",
        "####\n",
        "###\n",
        "##\n",
        "#\n",
        "\n",
        "para cualquier n dado por el usuario. \n",
        "\"\"\"\n",
        "numero = int(input(\"Ingrese un numero: \"))\n",
        "for i in range(1,numero+1):\n",
        "  for j in range (1,i+1):\n",
        "    print(\"#\",end=\"\")\n",
        "  print(\"\\n\")\n",
        "\n",
        "for i in range(numero-1,0,-1):\n",
        "  for j in range (1,i+1):\n",
        "    print(\"#\",end=\"\")\n",
        "  print(\"\\n\")\n"
      ],
      "metadata": {
        "colab": {
          "base_uri": "https://localhost:8080/"
        },
        "id": "ji9gr0a45hTM",
        "outputId": "d4d6560d-88aa-4198-e205-5fb323d2dd6d"
      },
      "execution_count": null,
      "outputs": [
        {
          "output_type": "stream",
          "name": "stdout",
          "text": [
            "Ingrese un numero: 5\n",
            "#\n",
            "\n",
            "##\n",
            "\n",
            "###\n",
            "\n",
            "####\n",
            "\n",
            "#####\n",
            "\n",
            "####\n",
            "\n",
            "###\n",
            "\n",
            "##\n",
            "\n",
            "#\n",
            "\n"
          ]
        }
      ]
    },
    {
      "cell_type": "code",
      "source": [
        "\"\"\"\n",
        "Halle el índice de una coleccion de nombres\n",
        "\"\"\"\n",
        "nombres = [\"Juan\",\"Jaime\",\"Sara\",\"Maria\",\"Alejandro\",\"Roberto\"]\n",
        "for i in range (0,len(nombres)):\n",
        "  print(nombres[i],\"su indice es\",i)"
      ],
      "metadata": {
        "colab": {
          "base_uri": "https://localhost:8080/"
        },
        "id": "7yTea-mn5q50",
        "outputId": "cd3a93bc-3deb-4d13-dac3-8abea859762c"
      },
      "execution_count": null,
      "outputs": [
        {
          "output_type": "stream",
          "name": "stdout",
          "text": [
            "Juan su indice es 0\n",
            "Jaime su indice es 1\n",
            "Sara su indice es 2\n",
            "Maria su indice es 3\n",
            "Alejandro su indice es 4\n",
            "Roberto su indice es 5\n"
          ]
        }
      ]
    },
    {
      "cell_type": "code",
      "source": [
        "\"\"\"\n",
        "Hacer una función para guardar una lista de celulares dados por el cliente\n",
        "\"\"\"\n",
        "def GuardarCelulares():\n",
        "  Celulares=[]\n",
        "  Decision=input(\"Ingrese S para agregar un número de celular: \")\n",
        "  while Decision==\"S\":\n",
        "    Celulares.append(input(\"Ingrese número: \"))\n",
        "    Decision=input(\"Ingrese S para agregar un número de celular\")\n",
        "  return Celulares \n",
        "\n",
        "GuardarCelulares()"
      ],
      "metadata": {
        "colab": {
          "base_uri": "https://localhost:8080/"
        },
        "id": "ECnOLq285suP",
        "outputId": "aaefb021-d1ab-46bc-e78b-0e72a6ef296e"
      },
      "execution_count": null,
      "outputs": [
        {
          "name": "stdout",
          "output_type": "stream",
          "text": [
            "Ingrese S para agregar un número de celular: S\n",
            "Ingrese número: 989888123\n",
            "Ingrese S para agregar un número de celularS\n",
            "Ingrese número: 998817124\n",
            "Ingrese S para agregar un número de celularf\n"
          ]
        },
        {
          "output_type": "execute_result",
          "data": {
            "text/plain": [
              "['989888123', '998817124']"
            ]
          },
          "metadata": {},
          "execution_count": 1
        }
      ]
    },
    {
      "cell_type": "code",
      "source": [
        "\"\"\"\n",
        "Hacer una función para guardar emails de clientes en un excel \n",
        "\"\"\"\n"
      ],
      "metadata": {
        "colab": {
          "base_uri": "https://localhost:8080/"
        },
        "id": "VqSEd6OT5uUN",
        "outputId": "41b3269a-056f-475a-e446-fc9e616ced39"
      },
      "execution_count": null,
      "outputs": [
        {
          "output_type": "stream",
          "name": "stdout",
          "text": [
            "Hola mundo\n"
          ]
        }
      ]
    },
    {
      "cell_type": "code",
      "source": [
        "\"\"\"\n",
        "Hacer un programa para almacenar datos de clientes (celular, telefono, email) en un excel\n",
        "\"\"\"\n"
      ],
      "metadata": {
        "colab": {
          "base_uri": "https://localhost:8080/",
          "height": 35
        },
        "id": "lNaS4oFs5vge",
        "outputId": "fa375f7c-6659-44ce-fc55-48992d94d17d"
      },
      "execution_count": null,
      "outputs": [
        {
          "output_type": "execute_result",
          "data": {
            "application/vnd.google.colaboratory.intrinsic+json": {
              "type": "string"
            },
            "text/plain": [
              "'\\nHacer un programa para almacenar datos de clientes (celular, telefono, email) en un excel\\n'"
            ]
          },
          "metadata": {},
          "execution_count": 9
        }
      ]
    },
    {
      "cell_type": "code",
      "source": [
        "# Crea una matriz de 3x4 de unos "
      ],
      "metadata": {
        "id": "Kwj3gz5V6EJE"
      },
      "execution_count": null,
      "outputs": []
    },
    {
      "cell_type": "code",
      "source": [
        "# Genere un función para calcular la transpuesta de una matriz"
      ],
      "metadata": {
        "id": "zljQ-OyU6PXe"
      },
      "execution_count": null,
      "outputs": []
    },
    {
      "cell_type": "code",
      "source": [
        "# Genere una función para encontrar el producto interno de un vector por si mismo"
      ],
      "metadata": {
        "id": "jaf8vC3m6QrR"
      },
      "execution_count": null,
      "outputs": []
    },
    {
      "cell_type": "code",
      "source": [
        "# Genere una función que convierta directamente una imagen en un array (Ingresa un url y la salida es un array)"
      ],
      "metadata": {
        "id": "ocEM8czi6SHx"
      },
      "execution_count": null,
      "outputs": []
    },
    {
      "cell_type": "code",
      "source": [
        "\"\"\"\n",
        "Genere una función que a partir de una df y el valor de una columna, se genere una lista con los valores de dicha columna:\n",
        "\n",
        "funcion(df,columna)\n",
        "\"\"\""
      ],
      "metadata": {
        "id": "s2bgLm_56XT7"
      },
      "execution_count": null,
      "outputs": []
    },
    {
      "cell_type": "code",
      "source": [
        "\"\"\"\n",
        "Genere un programa o función que permita guardar nuevas filas en un df\n",
        "\"\"\""
      ],
      "metadata": {
        "id": "75p5YVCh6aBy"
      },
      "execution_count": null,
      "outputs": []
    },
    {
      "cell_type": "code",
      "source": [
        "\"\"\"\n",
        "Genere un programa que guarde una tabla en un archivo excel. \n",
        "\"\"\""
      ],
      "metadata": {
        "id": "ndoPO7S-6joj"
      },
      "execution_count": null,
      "outputs": []
    },
    {
      "cell_type": "code",
      "source": [
        "#Grafica una función exponencial e**x"
      ],
      "metadata": {
        "id": "BBGZxebe6pBM"
      },
      "execution_count": null,
      "outputs": []
    },
    {
      "cell_type": "code",
      "source": [
        "#Grafica en la misma figura, pero con spines distintos, y difentes trazas, el sen y coseno de x desde -2pi hasta 2pi"
      ],
      "metadata": {
        "id": "kFbdK9fL6ur8"
      },
      "execution_count": null,
      "outputs": []
    },
    {
      "cell_type": "code",
      "source": [
        "#Grafica en un parche, un elipse con centro en 0,0, un ancho de 2 y un alto de 4. "
      ],
      "metadata": {
        "id": "BISSsYT36w3x"
      },
      "execution_count": null,
      "outputs": []
    },
    {
      "cell_type": "code",
      "source": [
        "#Grafica en una figura, 3 trazas compartiendo el mismo x, en donde sea y1 = x**2, y2 = x**3 y y3 dado por el usuario\n"
      ],
      "metadata": {
        "id": "_Gh1GqiW6zkX"
      },
      "execution_count": null,
      "outputs": []
    }
  ]
}